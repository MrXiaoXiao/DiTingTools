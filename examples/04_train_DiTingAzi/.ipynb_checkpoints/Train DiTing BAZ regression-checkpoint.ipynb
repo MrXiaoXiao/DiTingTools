{
 "cells": [
  {
   "cell_type": "code",
   "execution_count": 1,
   "id": "7f5e70b8",
   "metadata": {},
   "outputs": [],
   "source": [
    "import yaml"
   ]
  },
  {
   "cell_type": "code",
   "execution_count": 2,
   "id": "2f8942d1",
   "metadata": {},
   "outputs": [],
   "source": [
    "cfgs = yaml.load(open('../example_configs/baz_example.yaml','r'),Loader=yaml.Loader)"
   ]
  },
  {
   "cell_type": "code",
   "execution_count": null,
   "id": "b8c12076",
   "metadata": {},
   "outputs": [],
   "source": [
    "import os\n",
    "os.environ['CUDA_VISIBLE_DEVICES'] = cfgs['Training']['GPU_ID']\n",
    "\n",
    "# workaround import\n",
    "import sys\n",
    "# path to dtt\n",
    "sys.path.append('../../../DiTingTools_v0701/')\n",
    "\n",
    "from dtt.dev.fmp.train import train"
   ]
  }
 ],
 "metadata": {
  "kernelspec": {
   "display_name": "Python 3 (ipykernel)",
   "language": "python",
   "name": "python3"
  },
  "language_info": {
   "codemirror_mode": {
    "name": "ipython",
    "version": 3
   },
   "file_extension": ".py",
   "mimetype": "text/x-python",
   "name": "python",
   "nbconvert_exporter": "python",
   "pygments_lexer": "ipython3",
   "version": "3.8.11"
  }
 },
 "nbformat": 4,
 "nbformat_minor": 5
}
