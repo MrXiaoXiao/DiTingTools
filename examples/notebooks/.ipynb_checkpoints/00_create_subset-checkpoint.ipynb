{
 "cells": [
  {
   "cell_type": "code",
   "execution_count": 1,
   "id": "400889e1",
   "metadata": {},
   "outputs": [],
   "source": [
    "# create every sub dataset"
   ]
  },
  {
   "cell_type": "code",
   "execution_count": 4,
   "id": "a435eae0",
   "metadata": {},
   "outputs": [],
   "source": [
    "import pandas as pd\n",
    "import h5py"
   ]
  },
  {
   "cell_type": "code",
   "execution_count": null,
   "id": "0591288c",
   "metadata": {},
   "outputs": [],
   "source": [
    "STEAD:\n",
    "      name: 'STEAD'\n",
    "      train_csv_path: '/mnt/GPT_disk/DL_datasets/STEAD/metadata_eq.csv.train.csv'\n",
    "      train_hdf5_path: '/mnt/GPT_disk/DL_datasets/STEAD/waveforms.hdf5'\n",
    "      has_validation: True\n",
    "      val_csv_path: '/mnt/GPT_disk/DL_datasets/STEAD/metadata_eq.csv.val.csv'\n",
    "      val_hdf5_path: '/mnt/GPT_disk/DL_datasets/STEAD/waveforms.hdf5'\n",
    "      has_parts: False\n",
    "      combo_num: 3\n",
    "      length: 6144\n",
    "      n_channels: 3\n",
    "      n_classes: 3\n",
    "      sample_weight: 0.35"
   ]
  },
  {
   "cell_type": "code",
   "execution_count": 5,
   "id": "34cad379",
   "metadata": {},
   "outputs": [],
   "source": [
    "# STEAD\n",
    "demo_folder = '/mnt/GPT_disk/zhaoming/xzw/DiTingTools_v0419/examples/demo_data/dl_dataset_demos/STEAD_demo/'\n",
    "demo_train = demo_folder + '/train.csv'\n",
    "ori_csv_path = '/mnt/GPT_disk/DL_datasets/STEAD/metadata_eq.csv'\n",
    "ori_hdf5_path = '/mnt/GPT_disk/DL_datasets/STEAD/waveforms.hdf5'\n",
    "ori_csv = pd.read_csv(ori_csv_path)\n",
    "sub_csv = ori_csv[:100]"
   ]
  },
  {
   "cell_type": "code",
   "execution_count": 10,
   "id": "45d98e50",
   "metadata": {},
   "outputs": [],
   "source": [
    "train_sub_csv = sub_csv[:50]\n",
    "train_sub_csv.to_csv(demo_folder + 'STEAD_demo.train.csv')\n",
    "test_sub_csv = sub_csv[50:75]\n",
    "test_sub_csv.to_csv(demo_folder + 'STEAD_demo.test.csv')\n",
    "val_sub_csv = sub_csv[75:]\n",
    "val_sub_csv.to_csv(demo_folder + 'STEAD_demo.val.csv')"
   ]
  },
  {
   "cell_type": "code",
   "execution_count": null,
   "id": "540abe29",
   "metadata": {},
   "outputs": [],
   "source": [
    "hdf5_file = demo_folder + 'STEAD_demo.hdf5'\n",
    "ori_HDF = h5py.File(ori_hdf5_path, 'r')\n",
    "HDF = h5py.File(hdf5_file, 'a')\n",
    "HDF.create_group('earthquake/local/')\n",
    "HDF.close()\n",
    "counter = 0\n",
    "for loc_list in [train_sub_csv, test_sub_csv, val_sub_csv]:\n",
    "    for loc_id in len(loc_list):\n",
    "        if counter % 10 == 0:\n",
    "            print(counter)\n",
    "        counter += 1\n",
    "        \n",
    "        t_line = loc_list.iloc[loc_id]\n",
    "        key = loc_list['trace_name'].iloc[loc_id]\n",
    "        dataset = ori_HDF.get('earthquake/local/'+str(key))\n",
    "        p_t = int(dataset.attrs['p_arrival_sample'])\n",
    "        s_t = int(dataset.attrs['s_arrival_sample'])\n",
    "\n",
    "        HDF = h5py.File(hdf5_file, 'a')\n",
    "        dsf = HDF.create_dataset('earthquake/local/' + key,\n",
    "                                    [6000,3],\n",
    "                                    data  = temp_data,\n",
    "                                    dtype = np.int32)\n",
    "\n",
    "        dsf.attrs[\"p_arrival_sample\"] = p_t\n",
    "        dsf.attrs[\"s_arrival_sample\"] = s_t\n",
    "        HDF.flush()\n",
    "        HDF.close()\n",
    "    #break"
   ]
  },
  {
   "cell_type": "code",
   "execution_count": null,
   "id": "f4531781",
   "metadata": {},
   "outputs": [],
   "source": []
  },
  {
   "cell_type": "code",
   "execution_count": null,
   "id": "b56cf8a0",
   "metadata": {},
   "outputs": [],
   "source": []
  },
  {
   "cell_type": "code",
   "execution_count": 6,
   "id": "ee4abcbd",
   "metadata": {},
   "outputs": [
    {
     "name": "stderr",
     "output_type": "stream",
     "text": [
      "/public/home/zhaoming/guochang/miniconda3/envs/DiTingDevEnv/lib/python3.8/site-packages/IPython/core/interactiveshell.py:3172: DtypeWarning: Columns (22) have mixed types.Specify dtype option on import or set low_memory=False.\n",
      "  has_raised = await self.run_ast_nodes(code_ast.body, cell_name,\n"
     ]
    }
   ],
   "source": [
    "# loop over each sub csv to create hdf5 file\n",
    "with h5py.File()"
   ]
  },
  {
   "cell_type": "code",
   "execution_count": 7,
   "id": "3ab396c0",
   "metadata": {},
   "outputs": [],
   "source": []
  },
  {
   "cell_type": "code",
   "execution_count": null,
   "id": "b1349518",
   "metadata": {},
   "outputs": [],
   "source": [
    "ori_h5 = h5py.Fi"
   ]
  },
  {
   "cell_type": "code",
   "execution_count": null,
   "id": "7a8e820c",
   "metadata": {},
   "outputs": [],
   "source": []
  },
  {
   "cell_type": "code",
   "execution_count": null,
   "id": "ec61e978",
   "metadata": {},
   "outputs": [],
   "source": [
    "# INSTANCE"
   ]
  }
 ],
 "metadata": {
  "kernelspec": {
   "display_name": "Python 3 (ipykernel)",
   "language": "python",
   "name": "python3"
  },
  "language_info": {
   "codemirror_mode": {
    "name": "ipython",
    "version": 3
   },
   "file_extension": ".py",
   "mimetype": "text/x-python",
   "name": "python",
   "nbconvert_exporter": "python",
   "pygments_lexer": "ipython3",
   "version": "3.8.11"
  }
 },
 "nbformat": 4,
 "nbformat_minor": 5
}
