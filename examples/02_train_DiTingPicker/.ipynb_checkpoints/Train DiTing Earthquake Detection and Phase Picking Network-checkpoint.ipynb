{
 "cells": [
  {
   "cell_type": "code",
   "execution_count": 1,
   "id": "99f18f9d",
   "metadata": {},
   "outputs": [],
   "source": [
    "import yaml"
   ]
  },
  {
   "cell_type": "code",
   "execution_count": 3,
   "id": "7eeb7c9c",
   "metadata": {},
   "outputs": [],
   "source": [
    "cfgs = yaml.load(open('../example_configs/det_pick_example.yaml','r'),Loader=yaml.Loader)"
   ]
  },
  {
   "cell_type": "code",
   "execution_count": null,
   "id": "5a380f26",
   "metadata": {},
   "outputs": [],
   "source": []
  },
  {
   "cell_type": "code",
   "execution_count": null,
   "id": "b30000ad",
   "metadata": {},
   "outputs": [],
   "source": [
    "if __name__ == '__main__':\n",
    "    parser = argparse.ArgumentParser(description='DiTingTools: EarthquakeDetectionAndPhasePicking Training')\n",
    "    parser.add_argument('--config-file', dest='config_file', type=str, help='Path to Configuration file')\n",
    "    args = parser.parse_args()\n",
    "    cfgs = yaml.load(open(args.config_file), Loader=yaml.SafeLoader)\n",
    "    os.environ['CUDA_VISIBLE_DEVICES'] = cfgs['Training']['GPU_ID']\n",
    "    train(cfgs)\n"
   ]
  }
 ],
 "metadata": {
  "kernelspec": {
   "display_name": "Python 3 (ipykernel)",
   "language": "python",
   "name": "python3"
  },
  "language_info": {
   "codemirror_mode": {
    "name": "ipython",
    "version": 3
   },
   "file_extension": ".py",
   "mimetype": "text/x-python",
   "name": "python",
   "nbconvert_exporter": "python",
   "pygments_lexer": "ipython3",
   "version": "3.8.11"
  }
 },
 "nbformat": 4,
 "nbformat_minor": 5
}
