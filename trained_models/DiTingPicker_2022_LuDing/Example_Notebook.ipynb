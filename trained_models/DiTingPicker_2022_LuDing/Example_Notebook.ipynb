{
 "cells": [
  {
   "cell_type": "code",
   "execution_count": null,
   "metadata": {},
   "outputs": [],
   "source": [
    "# Download example data\n",
    "\n",
    "import obspy\n",
    "from obspy.clients.fdsn.client import Client\n",
    "import os\n",
    "os.mkdir('./example_data/')\n",
    "# one-station two-day Ridgecrest sequence data\n",
    "# you should be able to detect 4028 events from this example using DiTingPicker.\n",
    "starttime = obspy.UTCDateTime('2019-07-06T00:00:00')\n",
    "endtime = obspy.UTCDateTime('2019-07-08T00:00:00')\n",
    "network = 'CI'\n",
    "station = 'CLC'\n",
    "\n",
    "client = Client('IRIS')\n",
    "\n",
    "inv_info = client.get_stations(network=network, station=station, channel='HH*', location='*', level='response')\n",
    "inv_info.write('./example_data/inv.xml',format='STATIONXML')\n",
    "two_day_data = client.get_waveforms(network=network, station=station, channel='HH*', location='*', starttime=starttime, endtime=endtime) \n",
    "two_day_data.write('./example_data/waveform.mseed')"
   ]
  },
  {
   "cell_type": "code",
   "execution_count": 1,
   "metadata": {},
   "outputs": [],
   "source": [
    "# set gpu\n",
    "import os\n",
    "os.environ['CUDA_VISIBLE_DEVICES'] = '7'\n",
    "from example_codes_for_detecting_earthquakes import *"
   ]
  },
  {
   "cell_type": "code",
   "execution_count": 2,
   "metadata": {},
   "outputs": [
    {
     "name": "stderr",
     "output_type": "stream",
     "text": [
      "2022-12-28 20:14:09.874982: I tensorflow/core/platform/cpu_feature_guard.cc:142] This TensorFlow binary is optimized with oneAPI Deep Neural Network Library (oneDNN) to use the following CPU instructions in performance-critical operations:  SSE4.1 SSE4.2 AVX AVX2 AVX512F FMA\n",
      "To enable them in other operations, rebuild TensorFlow with the appropriate compiler flags.\n",
      "2022-12-28 20:14:10.604661: I tensorflow/core/common_runtime/gpu/gpu_device.cc:1510] Created device /job:localhost/replica:0/task:0/device:GPU:0 with 22296 MB memory:  -> device: 0, name: NVIDIA GeForce RTX 3090, pci bus id: 0000:d6:00.0, compute capability: 8.6\n"
     ]
    }
   ],
   "source": [
    "st = obspy.read('./example_data/waveform.mseed')\n",
    "sta_dict = dict()\n",
    "st.merge(fill_value='interpolate')\n",
    "st.trim(starttime=st[0].stats.starttime, endtime=st[0].stats.endtime, pad=True, fill_value=0)\n",
    "\n",
    "for trace in st.traces:\n",
    "    net = trace.stats.network\n",
    "    sta = trace.stats.station\n",
    "    net_sta_key = net + '.' + sta\n",
    "    if net_sta_key in sta_dict.keys():\n",
    "        pass\n",
    "    else:\n",
    "        sta_dict[net_sta_key] = list()\n",
    "        \n",
    "sta_dict_key_list = list(sta_dict.keys())\n",
    "input_dict = dict()\n",
    "input_dict['st'] = st\n",
    "input_dict['sta_dict'] = sta_dict\n",
    "input_dict['fname'] = 'example'\n",
    "input_dict['plot_folder'] = './plots/'\n",
    "input_dict['waveform_folder'] = './results/waveforms/'\n",
    "input_dict['csv_folder'] = './results/csvs/'\n",
    "input_dict['GPU_ID'] = '7'\n",
    "\n",
    "picker_model_path = './DiTingPicker_2022_LuDing_sequence.hdf5'\n",
    "input_dict['picker_model_path'] = picker_model_path\n",
    "picker_model = tf.keras.models.load_model(picker_model_path, compile=False)\n",
    "\n",
    "motion_model_path = './DiTingMotion_2022_LuDing_sequence.hdf5'\n",
    "input_dict['motion_model_path'] = motion_model_path\n",
    "motion_model = tf.keras.models.load_model(motion_model_path, compile=False)\n",
    "\n",
    "input_dict['max_psdiff'] = 50\n",
    "input_dict['min_psdiff'] = 0.5\n",
    "input_dict['sta_dict_key_list'] = sta_dict_key_list\n",
    "input_dict['show_mode'] = False"
   ]
  },
  {
   "cell_type": "code",
   "execution_count": 3,
   "metadata": {},
   "outputs": [
    {
     "name": "stderr",
     "output_type": "stream",
     "text": [
      "2022-12-28 20:14:17.204292: I tensorflow/compiler/mlir/mlir_graph_optimization_pass.cc:185] None of the MLIR Optimization Passes are enabled (registered 2)\n",
      "2022-12-28 20:14:20.759802: I tensorflow/stream_executor/cuda/cuda_dnn.cc:369] Loaded cuDNN version 8401\n",
      "2022-12-28 20:14:23.723041: I tensorflow/stream_executor/cuda/cuda_blas.cc:1760] TensorFloat-32 will be used for the matrix multiplication. This will only be logged once.\n"
     ]
    },
    {
     "name": "stdout",
     "output_type": "stream",
     "text": [
      "Done\n"
     ]
    }
   ],
   "source": [
    "sta_dict = process_sta_list_passing_model(input_dict, picker_model, motion_model, None)\n",
    "fp = open('./results/example.json', \"w\")\n",
    "json.dump(sta_dict, fp)\n",
    "fp.close()\n",
    "print('Done')\n",
    "\n",
    "# Please note that picked phases are ploted one event per figure."
   ]
  },
  {
   "cell_type": "code",
   "execution_count": null,
   "metadata": {},
   "outputs": [],
   "source": []
  }
 ],
 "metadata": {
  "kernelspec": {
   "display_name": "Python 3 (ipykernel)",
   "language": "python",
   "name": "python3"
  },
  "language_info": {
   "codemirror_mode": {
    "name": "ipython",
    "version": 3
   },
   "file_extension": ".py",
   "mimetype": "text/x-python",
   "name": "python",
   "nbconvert_exporter": "python",
   "pygments_lexer": "ipython3",
   "version": "3.9.13"
  },
  "vscode": {
   "interpreter": {
    "hash": "8ec270c207c3587810fac6571e48e01ec3c1cb4dbf8423b7a591ec5028039ef7"
   }
  }
 },
 "nbformat": 4,
 "nbformat_minor": 2
}
